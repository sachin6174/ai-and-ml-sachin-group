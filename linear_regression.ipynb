{
 "cells": [
  {
   "cell_type": "code",
   "execution_count": 2,
   "id": "34521e83-5820-4a8c-848b-6e25d030329a",
   "metadata": {},
   "outputs": [],
   "source": [
    "import numpy as np\n",
    "data = np.loadtxt(\"data.csv\", delimiter=\",\")"
   ]
  },
  {
   "cell_type": "code",
   "execution_count": 3,
   "id": "7ecf4781-0863-42a9-9a09-1635fc8700bc",
   "metadata": {},
   "outputs": [
    {
     "data": {
      "text/plain": [
       "(100, 2)"
      ]
     },
     "execution_count": 3,
     "metadata": {},
     "output_type": "execute_result"
    }
   ],
   "source": [
    "data.shape"
   ]
  },
  {
   "cell_type": "code",
   "execution_count": 10,
   "id": "46eb15c6-8a45-47f5-aa29-4f296b7465e7",
   "metadata": {},
   "outputs": [],
   "source": [
    "x=data[:,0]\n",
    "y=data[:,1]"
   ]
  },
  {
   "cell_type": "code",
   "execution_count": 23,
   "id": "8ef667ba-1d7b-4fdf-8a41-2445ebaceac1",
   "metadata": {},
   "outputs": [
    {
     "data": {
      "text/plain": [
       "(8.26043714393364, 4.206795392079435)"
      ]
     },
     "execution_count": 23,
     "metadata": {},
     "output_type": "execute_result"
    }
   ],
   "source": [
    "import random\n",
    "m= random.uniform(1, 10)\n",
    "c= random.uniform(1, 5)\n",
    "m ,c"
   ]
  },
  {
   "cell_type": "code",
   "execution_count": 24,
   "id": "7e533a55-20cd-47dc-b604-38678e3b6007",
   "metadata": {},
   "outputs": [],
   "source": [
    "predicted_array = m*x+c"
   ]
  },
  {
   "cell_type": "code",
   "execution_count": 20,
   "id": "8acdcaba-182c-4b63-bdf5-cedfb7e709a0",
   "metadata": {},
   "outputs": [
    {
     "data": {
      "text/plain": [
       "array([208.59058783, 339.88249785, 390.72878705, 302.5415205 ,\n",
       "       379.95441404, 350.64579139, 332.25885337, 251.24020634,\n",
       "       306.49074563, 334.38102317, 289.64157949, 345.6854106 ,\n",
       "       281.76272764, 369.63440124, 360.5911027 , 311.829441  ,\n",
       "       285.04524667, 382.99205083, 290.8896763 , 248.2111646 ,\n",
       "       419.96487022, 415.10983107, 302.5764634 , 265.5215963 ,\n",
       "       329.95853585, 377.17863451, 364.24789113, 403.81253356,\n",
       "       297.91076344, 321.87421636, 332.33539928, 227.82517622,\n",
       "       270.92295861, 369.60973839, 365.46794407, 289.77209412,\n",
       "       393.02442919, 212.30190906, 233.27262609, 241.05086339,\n",
       "       284.21958995, 276.45590712, 318.83974487, 279.92153857,\n",
       "       399.93434627, 209.63654863, 256.6823407 , 340.81284979,\n",
       "       217.13572997, 410.66170874, 243.8378324 , 283.8865967 ,\n",
       "       259.39696528, 266.43162015, 325.21149852, 350.24363867,\n",
       "       264.27975865, 396.77959885, 313.38552709, 262.5539934 ,\n",
       "       263.05176053, 319.55030103, 333.30450693, 319.23090044,\n",
       "       215.75840635, 252.86114354, 356.84632063, 364.57447413,\n",
       "       382.81565734, 228.51703404, 202.85420166, 341.35155101,\n",
       "       297.56321044, 275.1353467 , 446.04359417, 283.82584519,\n",
       "       365.46848172, 236.372683  , 354.80924833, 249.0767507 ,\n",
       "       361.68291898, 361.48016238, 220.07793532, 375.16399167,\n",
       "       367.24851785, 345.25054439, 325.21203324, 320.15546323,\n",
       "       282.06197587, 243.12042344, 211.33969302, 341.54422607,\n",
       "       436.12763715, 294.73173602, 433.3268372 , 318.57011864,\n",
       "       313.61064474, 318.6291096 , 306.77195413, 162.32280828])"
      ]
     },
     "execution_count": 20,
     "metadata": {},
     "output_type": "execute_result"
    }
   ],
   "source": [
    "predicted_array"
   ]
  },
  {
   "cell_type": "code",
   "execution_count": 31,
   "id": "dd794792-58bf-4089-a4c1-eec59c22a829",
   "metadata": {},
   "outputs": [
    {
     "data": {
      "text/plain": [
       "117458.50794839377"
      ]
     },
     "execution_count": 31,
     "metadata": {},
     "output_type": "execute_result"
    }
   ],
   "source": [
    "cost_array = (predicted_array -y)**2/100\n",
    "total_cost =  cost_array.sum()\n",
    "total_cost"
   ]
  },
  {
   "cell_type": "code",
   "execution_count": null,
   "id": "2a4406c7-13cc-4f72-b8f4-4172022bc1a0",
   "metadata": {},
   "outputs": [],
   "source": []
  }
 ],
 "metadata": {
  "kernelspec": {
   "display_name": "Python 3 (ipykernel)",
   "language": "python",
   "name": "python3"
  },
  "language_info": {
   "codemirror_mode": {
    "name": "ipython",
    "version": 3
   },
   "file_extension": ".py",
   "mimetype": "text/x-python",
   "name": "python",
   "nbconvert_exporter": "python",
   "pygments_lexer": "ipython3",
   "version": "3.12.4"
  }
 },
 "nbformat": 4,
 "nbformat_minor": 5
}
